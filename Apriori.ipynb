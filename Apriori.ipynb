{
 "cells": [
  {
   "cell_type": "code",
   "execution_count": 8,
   "metadata": {},
   "outputs": [],
   "source": [
    "import pandas as pd"
   ]
  },
  {
   "cell_type": "code",
   "execution_count": 9,
   "metadata": {},
   "outputs": [],
   "source": [
    "def getdataset():\n",
    "    \n",
    "    return [[1,3,4],[1,2,3,5],[2,3,5],[2,5],[1,2,3,4,5]]\n",
    "    \"\"\"df = pd.read_csv(filename)\n",
    "    dataset = []\n",
    "    \n",
    "    for index, rows in df.iterrows():\n",
    "        row = []\n",
    "        for item in rows:\n",
    "            row.append(item)\n",
    "        dataset.append(row)\n",
    "        \n",
    "    return dataset\"\"\""
   ]
  },
  {
   "cell_type": "code",
   "execution_count": 10,
   "metadata": {},
   "outputs": [],
   "source": [
    "def getC1(dataset):\n",
    "    c1 = []\n",
    "    for transaction in dataset:\n",
    "        for item in transaction:\n",
    "            if not [item] in c1:\n",
    "                c1.append([item])\n",
    "    #print(c1)\n",
    "    c1.sort()\n",
    "    #print(c1)\n",
    "    return list(map(frozenset, c1))"
   ]
  },
  {
   "cell_type": "code",
   "execution_count": 15,
   "metadata": {},
   "outputs": [],
   "source": [
    "def getLk(dataset, ck, minSupport):\n",
    "    l = {}\n",
    "    for transaction in dataset:\n",
    "        for item in ck:\n",
    "            if item.issubset(transaction):\n",
    "                if item not in l:\n",
    "                    l[item] = 1\n",
    "                else:\n",
    "                    l[item] += 1\n",
    "    #print(\"l\\n\",l)\n",
    "    lk = l\n",
    "    for item in list(lk):\n",
    "        if lk[item] < minSupport:\n",
    "            del(lk[item])\n",
    "    #print(\"lk\\n\",lk)\n",
    "    #lk = list(lk)\n",
    "    return lk, l"
   ]
  },
  {
   "cell_type": "code",
   "execution_count": 12,
   "metadata": {},
   "outputs": [],
   "source": [
    "def getCk(lk, k):\n",
    "    ck = []\n",
    "    if(len(lk)>0):\n",
    "        for i in range(len(lk)):\n",
    "            x = list(lk[i])[:k-2]\n",
    "            x.sort()\n",
    "            for j in range(i+1,len(lk)): \n",
    "                y = list(lk[j])[:k-2]\n",
    "                y.sort()\n",
    "            \n",
    "                if x == y:\n",
    "                    ck.append(lk[i] | lk[j])\n",
    "    return ck"
   ]
  },
  {
   "cell_type": "code",
   "execution_count": 13,
   "metadata": {},
   "outputs": [],
   "source": [
    "def apriori(dataset, minSupport):\n",
    "    \n",
    "    c1 = getC1(dataset)\n",
    "    #\n",
    "    ds = list(map(set, dataset))\n",
    "    l1, l = getLk(dataset, c1, minSupport)\n",
    "    #print(\"c1\\n\",c1)\n",
    "    #print(\"l1\\n\",l1)\n",
    "    lk = l1\n",
    "    k = 2\n",
    "    while(len(lk)>0):\n",
    "        prev = lk\n",
    "        prevL = l\n",
    "        ck = getCk(lk, k)\n",
    "        lk, l = getLk(dataset, ck, minSupport)\n",
    "        k += 1\n",
    "        \n",
    "    return prev, prevL\n",
    "        "
   ]
  },
  {
   "cell_type": "code",
   "execution_count": 14,
   "metadata": {},
   "outputs": [
    {
     "name": "stdout",
     "output_type": "stream",
     "text": [
      "[frozenset({1, 2, 3, 5})] {frozenset({1, 2, 3, 5}): 2}\n"
     ]
    }
   ],
   "source": [
    "#filepath = \"/home/komali_priya/3-1/DWDM/ap.csv\"\n",
    "dataset = getdataset()\n",
    "#print(dataset)\n",
    "ck, l = apriori(dataset, 2)\n",
    "#l = list(l)\n",
    "print(ck, l)"
   ]
  },
  {
   "cell_type": "code",
   "execution_count": null,
   "metadata": {},
   "outputs": [],
   "source": []
  },
  {
   "cell_type": "code",
   "execution_count": null,
   "metadata": {},
   "outputs": [],
   "source": []
  }
 ],
 "metadata": {
  "kernelspec": {
   "display_name": "Python 3",
   "language": "python",
   "name": "python3"
  },
  "language_info": {
   "codemirror_mode": {
    "name": "ipython",
    "version": 3
   },
   "file_extension": ".py",
   "mimetype": "text/x-python",
   "name": "python",
   "nbconvert_exporter": "python",
   "pygments_lexer": "ipython3",
   "version": "3.7.4"
  }
 },
 "nbformat": 4,
 "nbformat_minor": 2
}
